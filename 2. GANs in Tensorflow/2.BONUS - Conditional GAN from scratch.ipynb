{
 "cells": [
  {
   "cell_type": "markdown",
   "metadata": {},
   "source": [
    "<img src=\"../images/logo.jpg\" style=\"width:85px;height:85px;float:left\" /><h1 style=\"position:relative;float:left;display:inline\">Conditional GAN from Scratch</h1>"
   ]
  },
  {
   "cell_type": "markdown",
   "metadata": {},
   "source": [
    "<a href='https://colab.research.google.com/github/zurutech/gans-from-theory-to-production/blob/master/2.%20GANs%20in%20Tensorflow/BONUS%20-%20Conditional%20GAN%20from%20scratch.ipynb'>\n",
    "    <img align=\"left\" src='https://cdn-images-1.medium.com/max/800/1*ZpNn76K98snC9vDiIJ6Ldw.jpeg'></img>\n",
    "</a>"
   ]
  },
  {
   "cell_type": "code",
   "execution_count": 1,
   "metadata": {
    "colab": {},
    "colab_type": "code",
    "id": "BweVGsRoEj6C"
   },
   "outputs": [],
   "source": [
    "import matplotlib\n",
    "import matplotlib.pyplot as plt\n",
    "import tensorflow as tf\n",
    "from IPython import display\n",
    "import random"
   ]
  },
  {
   "cell_type": "markdown",
   "metadata": {
    "colab_type": "text",
    "id": "D2_KtTGLQUpi"
   },
   "source": [
    "Define the dataset size and the 2 random normal distribution"
   ]
  },
  {
   "cell_type": "code",
   "execution_count": 2,
   "metadata": {
    "colab": {},
    "colab_type": "code",
    "id": "uhauJdSD8g4v"
   },
   "outputs": [],
   "source": [
    "dataset_shape = (2000, 1)\n",
    "def sample_z1():\n",
    "    return tf.random.normal(mean=10., shape=dataset_shape, stddev=0.1, dtype=tf.float32)\n",
    "def sample_z2():\n",
    "    return tf.random.normal(mean=20., shape=dataset_shape, stddev=0.2, dtype=tf.float32)"
   ]
  },
  {
   "cell_type": "markdown",
   "metadata": {
    "colab_type": "text",
    "id": "WU85sIbWQkKJ"
   },
   "source": [
    "Define the labels for the two distributions"
   ]
  },
  {
   "cell_type": "code",
   "execution_count": 3,
   "metadata": {
    "colab": {},
    "colab_type": "code",
    "id": "6ibGw1J8rOfv"
   },
   "outputs": [],
   "source": [
    "l1 = tf.zeros(shape=(dataset_shape[0],1), dtype=tf.float32)\n",
    "l2 = tf.ones(shape=(dataset_shape[0],1), dtype=tf.float32)"
   ]
  },
  {
   "cell_type": "code",
   "execution_count": 4,
   "metadata": {
    "colab": {
     "base_uri": "https://localhost:8080/",
     "height": 347
    },
    "colab_type": "code",
    "id": "uwdA3wuu8hCd",
    "outputId": "afe5124a-e003-475c-93f9-69efc3557b05"
   },
   "outputs": [
    {
     "data": {
      "image/png": "[encoded data removed]",
      "text/plain": [
       "<Figure size 432x288 with 1 Axes>"
      ]
     },
     "metadata": {
      "needs_background": "light"
     },
     "output_type": "display_data"
    }
   ],
   "source": [
    "# distribution 1\n",
    "_ = plt.hist(sample_z1().numpy(), 100)"
   ]
  },
  {
   "cell_type": "code",
   "execution_count": 5,
   "metadata": {
    "colab": {
     "base_uri": "https://localhost:8080/",
     "height": 347
    },
    "colab_type": "code",
    "id": "NyheVGxt8hMR",
    "outputId": "5f5b934f-3d34-447b-fbf1-fde13314ed8c"
   },
   "outputs": [
    {
     "data": {
      "image/png": "[encoded data removed]",
      "text/plain": [
       "<Figure size 432x288 with 1 Axes>"
      ]
     },
     "metadata": {
      "needs_background": "light"
     },
     "output_type": "display_data"
    }
   ],
   "source": [
    "# distribution 2\n",
    "_ = plt.hist(sample_z2().numpy(), 100)"
   ]
  },
  {
   "cell_type": "markdown",
   "metadata": {
    "colab_type": "text",
    "id": "GUZQsnsf-qcG"
   },
   "source": [
    "Define the generator and discriminator functions: both networks accepts a \"conditioning\" parameter - the label."
   ]
  },
  {
   "cell_type": "code",
   "execution_count": 6,
   "metadata": {
    "colab": {},
    "colab_type": "code",
    "id": "6zUYRJSJ8hc_"
   },
   "outputs": [],
   "source": [
    "def generator(input_shape, condition_shape):\n",
    "    \"\"\"generator network.\n",
    "    Args:\n",
    "        input_shape: the desired input shape\n",
    "        condition_shape: the shape of the condition \n",
    "    Returns:\n",
    "        G: The generator model\n",
    "    \"\"\"\n",
    "    inputs = tf.keras.layers.Input(input_shape)\n",
    "    condition_inputs = tf.keras.layers.Input(condition_shape)\n",
    "    \n",
    "    net = tf.keras.layers.Concatenate()([inputs, condition_inputs])\n",
    "    net = tf.keras.layers.Dense(units=64, activation=tf.nn.elu, name=\"fc1\")(net)\n",
    "    net = tf.keras.layers.Dense(units=64, activation=tf.nn.elu, name=\"fc2\")(net)\n",
    "    net = tf.keras.layers.Dense(units=1, name=\"G\")(net)\n",
    "    G = tf.keras.Model(inputs=[inputs, condition_inputs], outputs=net)\n",
    "    return G\n",
    "    \n",
    "def disciminator(input_shape, condition_shape):\n",
    "    \"\"\"discriminator network.\n",
    "    Args:\n",
    "        input_shape: the desired input shape\n",
    "        condition_shape: the shape of the condition\n",
    "    Returns:\n",
    "        D: the discriminator model\n",
    "    \"\"\"\n",
    "    inputs = tf.keras.layers.Input(input_shape)\n",
    "    condition_inputs = tf.keras.layers.Input(condition_shape)\n",
    "    \n",
    "    net = tf.keras.layers.Concatenate()([inputs, condition_inputs])\n",
    "    net = tf.keras.layers.Dense(units=32, activation=tf.nn.elu, name=\"fc1\")(net)\n",
    "    net = tf.keras.layers.Dense(units=1, name=\"D\")(net)\n",
    "    D = tf.keras.Model(inputs=[inputs, condition_inputs], outputs=net)\n",
    "    return D"
   ]
  },
  {
   "cell_type": "markdown",
   "metadata": {
    "colab_type": "text",
    "id": "LzCUjbv9TALS"
   },
   "source": [
    "Define the generator and discriminator - together with the conditional inputs"
   ]
  },
  {
   "cell_type": "code",
   "execution_count": 7,
   "metadata": {
    "colab": {},
    "colab_type": "code",
    "id": "8bauheFNB1pZ"
   },
   "outputs": [],
   "source": [
    "input_shape = (1,)\n",
    "condition_shape = (1,)\n",
    "\n",
    "D = disciminator(input_shape, condition_shape)\n",
    "\n",
    "latent_space_shape = (100,)\n",
    "G = generator(latent_space_shape, condition_shape)"
   ]
  },
  {
   "cell_type": "markdown",
   "metadata": {
    "colab_type": "text",
    "id": "6hqb0XWrTeC1"
   },
   "source": [
    "Define the discriminator loss"
   ]
  },
  {
   "cell_type": "code",
   "execution_count": 8,
   "metadata": {
    "colab": {},
    "colab_type": "code",
    "id": "PbuzfO_DB2PK"
   },
   "outputs": [],
   "source": [
    "bce = tf.keras.losses.BinaryCrossentropy(from_logits=True)\n",
    "\n",
    "d_loss = lambda real_output, generated_output: bce(tf.ones_like(real_output), real_output) + bce(tf.zeros_like(generated_output), generated_output)"
   ]
  },
  {
   "cell_type": "markdown",
   "metadata": {
    "colab_type": "text",
    "id": "GR_-D0UiTnwz"
   },
   "source": [
    "Define the generator loss"
   ]
  },
  {
   "cell_type": "code",
   "execution_count": 9,
   "metadata": {
    "colab": {},
    "colab_type": "code",
    "id": "m6lo-XvqB2ap"
   },
   "outputs": [],
   "source": [
    "g_loss = lambda generated_output: bce(tf.ones_like(generated_output), generated_output)"
   ]
  },
  {
   "cell_type": "markdown",
   "metadata": {
    "colab_type": "text",
    "id": "Y0IDF70HT_1o"
   },
   "source": [
    "Define the train function"
   ]
  },
  {
   "cell_type": "code",
   "execution_count": 10,
   "metadata": {
    "colab": {
     "base_uri": "https://localhost:8080/",
     "height": 195
    },
    "colab_type": "code",
    "id": "0Cy0B3lKJRlo",
    "outputId": "5d14f33a-a3b2-4a30-8d4a-5a8313273e9f"
   },
   "outputs": [
    {
     "name": "stdout",
     "output_type": "stream",
     "text": [
      "[0] G loss:  0.693629861  D loss:  1.38611889\n",
      "[1] G loss:  0.693625748  D loss:  1.38628697\n"
     ]
    }
   ],
   "source": [
    "def train():\n",
    "    # Define the optimizers and the train operations\n",
    "    optimizer = tf.keras.optimizers.Adam(1e-5)\n",
    "    \n",
    "    @tf.function\n",
    "    def train_step():\n",
    "        for real_data, label  in [(sample_z1(), l1), (sample_z2(), l2)]:\n",
    "            with tf.GradientTape(persistent=True) as tape:\n",
    "                noise_vector = tf.random.normal(mean=0, stddev=1, shape=(real_data.shape[0], latent_space_shape[0]))\n",
    "                # Sample from the Generator\n",
    "                fake_data = G([noise_vector, label])\n",
    "                # Compute the D loss\n",
    "                d_fake_data = D([fake_data, label])\n",
    "                d_real_data = D([real_data, label])\n",
    "                d_loss_value = d_loss(generated_output=d_fake_data, real_output=d_real_data)\n",
    "                # Compute the G loss\n",
    "                g_loss_value = g_loss(generated_output=d_fake_data)\n",
    "                tf.print(label[0], \"G loss: \", g_loss_value, \" D loss: \", d_loss_value)\n",
    "            # Now that we comptuted the losses we can compute the gradient (using the tape)\n",
    "            # and optimize the networks\n",
    "            d_gradients = tape.gradient(d_loss_value, D.trainable_variables)\n",
    "            g_gradients = tape.gradient(g_loss_value, G.trainable_variables)\n",
    "            del tape\n",
    "        \n",
    "            optimizer.apply_gradients(zip(d_gradients, D.trainable_variables))\n",
    "            optimizer.apply_gradients(zip(g_gradients, G.trainable_variables))\n",
    "    \n",
    "    for step in range(40000):\n",
    "        train_step()\n",
    "        display.clear_output(wait=True)\n",
    "train()"
   ]
  },
  {
   "cell_type": "code",
   "execution_count": 11,
   "metadata": {
    "colab": {},
    "colab_type": "code",
    "id": "5EFPMzZsJeLj"
   },
   "outputs": [],
   "source": [
    "real_data = sample_z1()\n",
    "noise_vector = tf.random.normal(mean=0, stddev=1, shape=(real_data.shape[0], latent_space_shape[0]))"
   ]
  },
  {
   "cell_type": "code",
   "execution_count": 12,
   "metadata": {
    "colab": {
     "base_uri": "https://localhost:8080/",
     "height": 347
    },
    "colab_type": "code",
    "id": "8LLkCgqwJd8U",
    "outputId": "85d2c5fc-aa9e-4f46-e974-3d44c3262d7b"
   },
   "outputs": [
    {
     "data": {
      "image/png": "[encoded data removed]",
      "text/plain": [
       "<Figure size 432x288 with 1 Axes>"
      ]
     },
     "metadata": {
      "needs_background": "light"
     },
     "output_type": "display_data"
    }
   ],
   "source": [
    "sampled = tf.squeeze(G([noise_vector, l2]))\n",
    "\n",
    "_ = plt.hist(sampled, 100, range=(2, 25))"
   ]
  },
  {
   "cell_type": "code",
   "execution_count": 13,
   "metadata": {
    "colab": {
     "base_uri": "https://localhost:8080/",
     "height": 347
    },
    "colab_type": "code",
    "id": "qxa4yavdJdt1",
    "outputId": "7d51fc9d-3c74-4917-9e80-a20ee828f9cc"
   },
   "outputs": [
    {
     "data": {
      "image/png": "[encoded data removed]",
      "text/plain": [
       "<Figure size 432x288 with 1 Axes>"
      ]
     },
     "metadata": {
      "needs_background": "light"
     },
     "output_type": "display_data"
    }
   ],
   "source": [
    "sampled = tf.squeeze(G([noise_vector, l1]))\n",
    "\n",
    "_ = plt.hist(sampled, 100, range=(2, 25))"
   ]
  }
 ],
 "metadata": {
  "colab": {
   "name": "c_gan_trento.ipynb",
   "provenance": [],
   "version": "0.3.2"
  },
  "kernelspec": {
   "display_name": "Python 3",
   "language": "python",
   "name": "python3"
  },
  "language_info": {
   "codemirror_mode": {
    "name": "ipython",
    "version": 3
   },
   "file_extension": ".py",
   "mimetype": "text/x-python",
   "name": "python",
   "nbconvert_exporter": "python",
   "pygments_lexer": "ipython3",
   "version": "3.7.4"
  },
  "toc": {
   "base_numbering": 1,
   "nav_menu": {},
   "number_sections": true,
   "sideBar": true,
   "skip_h1_title": true,
   "title_cell": "Table of Contents",
   "title_sidebar": "Contents",
   "toc_cell": false,
   "toc_position": {
    "height": "calc(100% - 180px)",
    "left": "10px",
    "top": "150px",
    "width": "246px"
   },
   "toc_section_display": true,
   "toc_window_display": true
  }
 },
 "nbformat": 4,
 "nbformat_minor": 1
}
