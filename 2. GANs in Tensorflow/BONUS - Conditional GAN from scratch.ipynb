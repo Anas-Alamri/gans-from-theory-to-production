{
 "cells": [
  {
   "cell_type": "markdown",
   "metadata": {},
   "source": [
    "<img src=\"../images/logo.jpg\" style=\"width:85px;height:85px;float:left\" /><h1 style=\"position:relative;float:left;display:inline\">Conditional GAN from Scratch</h1>"
   ]
  },
  {
   "cell_type": "markdown",
   "metadata": {},
   "source": [
    "<a href='https://colab.research.google.com/github/zurutech/gans-from-theory-to-production/blob/master/2.%20GANs%20in%20Tensorflow/BONUS%20-%20Conditional%20GAN%20from%20scratch.ipynb'>\n",
    "    <img align=\"left\" src='https://cdn-images-1.medium.com/max/800/1*ZpNn76K98snC9vDiIJ6Ldw.jpeg'></img>\n",
    "</a>"
   ]
  },
  {
   "cell_type": "code",
   "execution_count": 1,
   "metadata": {
    "colab": {},
    "colab_type": "code",
    "id": "BweVGsRoEj6C"
   },
   "outputs": [],
   "source": [
    "import matplotlib\n",
    "import matplotlib.pyplot as plt\n",
    "import tensorflow as tf\n",
    "from IPython import display\n",
    "import random",
   ]
  },
  {
   "cell_type": "markdown",
   "metadata": {
    "colab_type": "text",
    "id": "D2_KtTGLQUpi"
   },
   "source": [
    "Define the dataset size and the 2 random normal distribution"
   ]
  },
  {
   "cell_type": "code",
   "execution_count": 2,
   "metadata": {
    "colab": {},
    "colab_type": "code",
    "id": "uhauJdSD8g4v"
   },
   "outputs": [],
   "source": [
    "dataset_shape = (2000, 1)\n",
    "def sample_z1():\n",
    "    return tf.random.normal(mean=10., shape=dataset_shape, stddev=0.1, dtype=tf.float32)\n",
    "def sample_z2():\n",
    "    return tf.random.normal(mean=20., shape=dataset_shape, stddev=0.2, dtype=tf.float32)"
   ]
  },
  {
   "cell_type": "markdown",
   "metadata": {
    "colab_type": "text",
    "id": "WU85sIbWQkKJ"
   },
   "source": [
    "Define the labels for the two distributions"
   ]
  },
  {
   "cell_type": "code",
   "execution_count": 3,
   "metadata": {
    "colab": {},
    "colab_type": "code",
    "id": "6ibGw1J8rOfv"
   },
   "outputs": [],
   "source": [
    "l1 = tf.zeros(shape=(dataset_shape[0],1), dtype=tf.float32)\n",
    "l2 = tf.ones(shape=(dataset_shape[0],1), dtype=tf.float32)"
   ]
  },
  {
   "cell_type": "code",
   "execution_count": 4,
   "metadata": {
    "colab": {
     "base_uri": "https://localhost:8080/",
     "height": 347
    },
    "colab_type": "code",
    "id": "uwdA3wuu8hCd",
    "outputId": "afe5124a-e003-475c-93f9-69efc3557b05"
   },
   "outputs": [
    {
     "data": {
      "image/png": "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\n",
      "text/plain": [
       "<Figure size 432x288 with 1 Axes>"
      ]
     },
     "metadata": {
      "needs_background": "light"
     },
     "output_type": "display_data"
    }
   ],
   "source": [
    "# distribution 1\n",
    "_ = plt.hist(sample_z1().numpy(), 100)"
   ]
  },
  {
   "cell_type": "code",
   "execution_count": 5,
   "metadata": {
    "colab": {
     "base_uri": "https://localhost:8080/",
     "height": 347
    },
    "colab_type": "code",
    "id": "NyheVGxt8hMR",
    "outputId": "5f5b934f-3d34-447b-fbf1-fde13314ed8c"
   },
   "outputs": [
    {
     "data": {
      "image/png": "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\n",
      "text/plain": [
       "<Figure size 432x288 with 1 Axes>"
      ]
     },
     "metadata": {
      "needs_background": "light"
     },
     "output_type": "display_data"
    }
   ],
   "source": [
    "# distribution 2\n",
    "_ = plt.hist(sample_z2().numpy(), 100)"
   ]
  },
  {
   "cell_type": "markdown",
   "metadata": {
    "colab_type": "text",
    "id": "GUZQsnsf-qcG"
   },
   "source": [
    "Define the generator and discriminator functions: both networks accepts a \"conditioning\" parameter - the label."
   ]
  },
  {
   "cell_type": "code",
   "execution_count": 6,
   "metadata": {
    "colab": {},
    "colab_type": "code",
    "id": "6zUYRJSJ8hc_"
   },
   "outputs": [],
   "source": [
    "def generator(input_shape, condition_shape):\n",
    "    \"\"\"generator network.\n",
    "    Args:\n",
    "        input_shape: the desired input shape\n",
    "        condition_shape: the shape of the condition \n",
    "    Returns:\n",
    "        G: The generator model\n",
    "    \"\"\"\n",
    "    inputs = tf.keras.layers.Input(input_shape)\n",
    "    condition_inputs = tf.keras.layers.Input(condition_shape)\n",
    "    \n",
    "    net = tf.keras.layers.Concatenate()([inputs, condition_inputs])\n",
    "    net = tf.keras.layers.Dense(units=64, activation=tf.nn.elu, name=\"fc1\")(net)\n",
    "    net = tf.keras.layers.Dense(units=64, activation=tf.nn.elu, name=\"fc2\")(net)\n",
    "    net = tf.keras.layers.Dense(units=1, name=\"G\")(net)\n",
    "    G = tf.keras.Model(inputs=[inputs, condition_inputs], outputs=net)\n",
    "    return G\n",
    "    \n",
    "def disciminator(input_shape, condition_shape):\n",
    "    \"\"\"discriminator network.\n",
    "    Args:\n",
    "        input_shape: the desired input shape\n",
    "        condition_shape: the shape of the condition\n",
    "    Returns:\n",
    "        D: the discriminator model\n",
    "    \"\"\"\n",
    "    inputs = tf.keras.layers.Input(input_shape)\n",
    "    condition_inputs = tf.keras.layers.Input(condition_shape)\n",
    "    \n",
    "    net = tf.keras.layers.Concatenate()([inputs, condition_inputs])\n",
    "    net = tf.keras.layers.Dense(units=32, activation=tf.nn.elu, name=\"fc1\")(net)\n",
    "    net = tf.keras.layers.Dense(units=1, name=\"D\")(net)\n",
    "    D = tf.keras.Model(inputs=[inputs, condition_inputs], outputs=net)\n",
    "    return D"
   ]
  },
  {
   "cell_type": "markdown",
   "metadata": {
    "colab_type": "text",
    "id": "LzCUjbv9TALS"
   },
   "source": [
    "Define the generator and discriminator - together with the conditional inputs"
   ]
  },
  {
   "cell_type": "code",
   "execution_count": 7,
   "metadata": {
    "colab": {},
    "colab_type": "code",
    "id": "8bauheFNB1pZ"
   },
   "outputs": [],
   "source": [
    "input_shape = (1,)\n",
    "condition_shape = (1,)\n",
    "\n",
    "D = disciminator(input_shape, condition_shape)\n",
    "\n",
    "latent_space_shape = (100,)\n",
    "G = generator(latent_space_shape, condition_shape)"
   ]
  },
  {
   "cell_type": "markdown",
   "metadata": {
    "colab_type": "text",
    "id": "6hqb0XWrTeC1"
   },
   "source": [
    "Define the discriminator loss"
   ]
  },
  {
   "cell_type": "code",
   "execution_count": 8,
   "metadata": {
    "colab": {},
    "colab_type": "code",
    "id": "PbuzfO_DB2PK"
   },
   "outputs": [],
   "source": [
    "bce = tf.keras.losses.BinaryCrossentropy(from_logits=True)\n",
    "\n",
    "d_loss = lambda real_output, generated_output: bce(tf.ones_like(real_output), real_output) + bce(tf.zeros_like(generated_output), generated_output)"
   ]
  },
  {
   "cell_type": "markdown",
   "metadata": {
    "colab_type": "text",
    "id": "GR_-D0UiTnwz"
   },
   "source": [
    "Define the generator loss"
   ]
  },
  {
   "cell_type": "code",
   "execution_count": 9,
   "metadata": {
    "colab": {},
    "colab_type": "code",
    "id": "m6lo-XvqB2ap"
   },
   "outputs": [],
   "source": [
    "g_loss = lambda generated_output: bce(tf.ones_like(generated_output), generated_output)"
   ]
  },
  {
   "cell_type": "markdown",
   "metadata": {
    "colab_type": "text",
    "id": "Y0IDF70HT_1o"
   },
   "source": [
    "Define the train function"
   ]
  },
  {
   "cell_type": "code",
   "execution_count": 10,
   "metadata": {
    "colab": {
     "base_uri": "https://localhost:8080/",
     "height": 195
    },
    "colab_type": "code",
    "id": "0Cy0B3lKJRlo",
    "outputId": "5d14f33a-a3b2-4a30-8d4a-5a8313273e9f"
   },
   "outputs": [
    {
     "name": "stdout",
     "output_type": "stream",
     "text": [
      "[0] G loss:  0.694438  D loss:  1.38613033\n",
      "[1] G loss:  0.694978356  D loss:  1.38629007\n"
     ]
    }
   ],
   "source": [
    "def train():\n",
    "    # Define the optimizers and the train operations\n",
    "    optimizer = tf.keras.optimizers.Adam(1e-5)\n",
    "    \n",
    "    @tf.function\n",
    "    def train_step():\n",
    "        for real_data, label  in [(sample_z1(), l1), (sample_z2(), l2)]:\n",
    "            with tf.GradientTape(persistent=True) as tape:\n",
    "                noise_vector = tf.random.normal(mean=0, stddev=1, shape=(real_data.shape[0], latent_space_shape[0]))\n",
    "                # Sample from the Generator\n",
    "                fake_data = G([noise_vector, label])\n",
    "                # Compute the D loss\n",
    "                d_fake_data = D([fake_data, label])\n",
    "                d_real_data = D([real_data, label])\n",
    "                d_loss_value = d_loss(generated_output=d_fake_data, real_output=d_real_data)\n",
    "                # Compute the G loss\n",
    "                g_loss_value = g_loss(generated_output=d_fake_data)\n",
    "                tf.print(label[0], \"G loss: \", g_loss_value, \" D loss: \", d_loss_value)\n",
    "            # Now that we comptuted the losses we can compute the gradient (using the tape)\n",
    "            # and optimize the networks\n",
    "            d_gradients = tape.gradient(d_loss_value, D.trainable_variables)\n",
    "            g_gradients = tape.gradient(g_loss_value, G.trainable_variables)\n",
    "            del tape\n",
    "        \n",
    "            optimizer.apply_gradients(zip(d_gradients, D.trainable_variables))\n",
    "            optimizer.apply_gradients(zip(g_gradients, G.trainable_variables))\n",
    "    \n",
    "    for step in range(40000):\n",
    "        train_step()\n",
    "        display.clear_output(wait=True)\n",
    "train()"
   ]
  },
  {
   "cell_type": "code",
   "execution_count": 11,
   "metadata": {
    "colab": {},
    "colab_type": "code",
    "id": "5EFPMzZsJeLj"
   },
   "outputs": [],
   "source": [
    "real_data = sample_z1()\n",
    "noise_vector = tf.random.normal(mean=0, stddev=1, shape=(real_data.shape[0], latent_space_shape[0]))"
   ]
  },
  {
   "cell_type": "code",
   "execution_count": 12,
   "metadata": {
    "colab": {
     "base_uri": "https://localhost:8080/",
     "height": 347
    },
    "colab_type": "code",
    "id": "8LLkCgqwJd8U",
    "outputId": "85d2c5fc-aa9e-4f46-e974-3d44c3262d7b"
   },
   "outputs": [
    {
     "data": {
      "image/png": "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\n",
      "text/plain": [
       "<Figure size 432x288 with 1 Axes>"
      ]
     },
     "metadata": {
      "needs_background": "light"
     },
     "output_type": "display_data"
    }
   ],
   "source": [
    "sampled = tf.squeeze(G([noise_vector, l2]))\n",
    "\n",
    "_ = plt.hist(sampled, 100, range=(2, 25))"
   ]
  },
  {
   "cell_type": "code",
   "execution_count": 13,
   "metadata": {
    "colab": {
     "base_uri": "https://localhost:8080/",
     "height": 347
    },
    "colab_type": "code",
    "id": "qxa4yavdJdt1",
    "outputId": "7d51fc9d-3c74-4917-9e80-a20ee828f9cc"
   },
   "outputs": [
    {
     "data": {
      "image/png": "iVBORw0KGgoAAAANSUhEUgAAAXoAAAD8CAYAAAB5Pm/hAAAABHNCSVQICAgIfAhkiAAAAAlwSFlzAAALEgAACxIB0t1+/AAAADl0RVh0U29mdHdhcmUAbWF0cGxvdGxpYiB2ZXJzaW9uIDMuMC4xLCBodHRwOi8vbWF0cGxvdGxpYi5vcmcvDW2N/gAADfJJREFUeJzt3X+o3fV9x/Hna0bbYbuq9S5IEnfdGhhSqMrFOSrDKSv+KIuFVpQxUwlkf1iwMFiz/tMOOohjq7MwhKzKYmmr0tYZqmwVtXT7Q9cbdf7cMJNIEqJJ/dWKdGB974/ziR6zJPfc3HNy4uc+H3A5n+/n+znn+74fvrzu937u95ybqkKS1K9fm3YBkqTJMuglqXMGvSR1zqCXpM4Z9JLUOYNekjpn0EtS5wx6SeqcQS9JnVsx7QIATj/99JqdnZ12GZL0vrJ9+/afVdXMQuOOi6CfnZ1lfn5+2mVI0vtKkhdGGefSjSR1zqCXpM4Z9JLUOYNekjpn0EtS5wx6SeqcQS9JnTPoJalzBr0kde64eGes+jW76d532js3XzHFSqTlyyt6SeqcQS9JnTPoJalzBr0kdc6gl6TOGfSS1DmDXpI6Z9BLUucMeknqnEEvSZ0z6CWpcwa9JHXOoJekzhn0ktQ5g16SOjdS0CfZmeTJJI8nmW99pyW5P8lz7fHU1p8k30iyI8kTSc6b5DcgSTqyxVzR/2FVnVNVc217E/BAVa0FHmjbAJcBa9vXRuCWcRUrSVq8pSzdrAO2tvZW4Mqh/ttr4GHglCRnLOE4kqQlGDXoC/hRku1JNra+lVW1t7VfBFa29ipg19Bzd7c+SdIUjPo/Yy+sqj1JfhO4P8l/De+sqkpSizlw+4GxEeDMM89czFMlSYsw0hV9Ve1pj/uAu4HzgZcOLMm0x31t+B5gzdDTV7e+g19zS1XNVdXczMzM0X8HkqQjWjDok5yc5MMH2sCngKeAbcD6Nmw9cE9rbwOubXffXAC8PrTEI0k6xkZZulkJ3J3kwPjvVNW/JPkpcFeSDcALwFVt/H3A5cAO4E3gurFXLUka2YJBX1XPA584RP/LwCWH6C/g+rFUJ0laMt8ZK0mdM+glqXOj3l4pLdnspnvfae/cfMUUK5GWF6/oJalzBr0kdc6gl6TOGfSS1DmDXpI6Z9BLUucMeknqnEEvSZ0z6CWpcwa9JHXOoJekzhn0ktQ5g16SOmfQS1LnDHpJ6pxBL0mdM+glqXMGvSR1zqCXpM4Z9JLUOYNekjpn0EtS5wx6SeqcQS9JnTPoJalzBr0kdW7koE9yQpLHkvywbZ+V5JEkO5LcmeSk1v+Btr2j7Z+dTOmSpFEs5or+BuDZoe0bgZuq6mPAq8CG1r8BeLX139TGSZKmZKSgT7IauAL4ZtsOcDHwvTZkK3Bla69r27T9l7TxkqQpGPWK/u+BvwDebtsfBV6rqrfa9m5gVWuvAnYBtP2vt/HvkWRjkvkk8/v37z/K8iVJC1kw6JN8GthXVdvHeeCq2lJVc1U1NzMzM86XliQNWTHCmE8Cf5zkcuCDwG8ANwOnJFnRrtpXA3va+D3AGmB3khXAR4CXx165JGkkC17RV9VfVtXqqpoFrgYerKo/AR4CPtuGrQfuae1tbZu2/8GqqrFWLUka2ShX9IfzJeCOJF8DHgNubf23At9KsgN4hcEPBy0js5vunXYJkoYsKuir6sfAj1v7eeD8Q4z5JfC5MdQmSRoD3xkrSZ0z6CWpcwa9JHXOoJekzhn0ktQ5g16SOmfQS1LnDHpJ6pxBL0mdM+glqXMGvSR1zqCXpM4Z9JLUOYNekjpn0EtS5wx6SeqcQS9JnTPoJalzBr0kdc6gl6TOGfSS1DmDXpI6Z9BLUucMeknqnEEvSZ0z6CWpcwa9JHXOoJekzi0Y9Ek+mOQ/kvxnkqeT/FXrPyvJI0l2JLkzyUmt/wNte0fbPzvZb0GSdCSjXNH/L3BxVX0COAe4NMkFwI3ATVX1MeBVYEMbvwF4tfXf1MZJkqZkwaCvgTfa5ontq4CLge+1/q3Ala29rm3T9l+SJGOrWJK0KCOt0Sc5IcnjwD7gfuB/gNeq6q02ZDewqrVXAbsA2v7XgY+Os2hJ0uhGCvqq+lVVnQOsBs4HfnepB06yMcl8kvn9+/cv9eUkSYexqLtuquo14CHg94FTkqxou1YDe1p7D7AGoO3/CPDyIV5rS1XNVdXczMzMUZYvSVrIKHfdzCQ5pbV/Hfgj4FkGgf/ZNmw9cE9rb2vbtP0PVlWNs2hJ0uhWLDyEM4CtSU5g8IPhrqr6YZJngDuSfA14DLi1jb8V+FaSHcArwNUTqFvvc7Ob7n2nvXPzFVOsROrfgkFfVU8A5x6i/3kG6/UH9/8S+NxYqpMkLZnvjJWkzhn0ktQ5g16SOmfQS1LnDHpJ6pxBL0mdM+glqXMGvSR1zqCXpM4Z9JLUOYNekjpn0EtS5wx6SeqcQS9JnTPoJalzBr0kdc6gl6TOGfSS1DmDXpI6Z9BLUucMeknqnEEvSZ0z6CWpcwa9JHXOoJekzhn0ktQ5g16SOmfQS1LnFgz6JGuSPJTkmSRPJ7mh9Z+W5P4kz7XHU1t/knwjyY4kTyQ5b9LfhCTp8Ea5on8L+POqOhu4ALg+ydnAJuCBqloLPNC2AS4D1ravjcAtY69akjSyBYO+qvZW1aOt/QvgWWAVsA7Y2oZtBa5s7XXA7TXwMHBKkjPGXrkkaSSLWqNPMgucCzwCrKyqvW3Xi8DK1l4F7Bp62u7WJ0magpGDPsmHgO8DX6yqnw/vq6oCajEHTrIxyXyS+f379y/mqZKkRRgp6JOcyCDkv11VP2jdLx1YkmmP+1r/HmDN0NNXt773qKotVTVXVXMzMzNHW78kaQGj3HUT4Fbg2ar6+tCubcD61l4P3DPUf227++YC4PWhJR5J0jG2YoQxnwT+FHgyyeOt78vAZuCuJBuAF4Cr2r77gMuBHcCbwHVjrViStCgLBn1V/TuQw+y+5BDjC7h+iXVJksbEd8ZKUucMeknqnEEvSZ0z6CWpcwa9JHXOoJekzhn0ktQ5g16SOmfQS1LnDHpJ6pxBL0mdM+glqXMGvSR1zqCXpM4Z9JLUOYNekjpn0EtS5wx6SeqcQS9JnTPoJalzBr0kdc6gl6TOGfSS1DmDXpI6Z9BLUucMeknqnEEvSZ0z6CWpcyumXYA0u+ned9o7N18xxUqkPi0Y9EluAz4N7Kuqj7e+04A7gVlgJ3BVVb2aJMDNwOXAm8Dnq+rRyZSu48lwWEs6voyydPNPwKUH9W0CHqiqtcADbRvgMmBt+9oI3DKeMiVJR2vBoK+qnwCvHNS9Dtja2luBK4f6b6+Bh4FTkpwxrmIlSYt3tH+MXVlVe1v7RWBla68Cdg2N2936/p8kG5PMJ5nfv3//UZYhSVrIku+6qaoC6iiet6Wq5qpqbmZmZqllSJIO42iD/qUDSzLtcV/r3wOsGRq3uvVJkqbkaIN+G7C+tdcD9wz1X5uBC4DXh5Z4JElTMMrtld8FLgJOT7Ib+AqwGbgryQbgBeCqNvw+BrdW7mBwe+V1E6hZkrQICwZ9VV1zmF2XHGJsAdcvtShJ0vj4EQiS1DmDXpI6Z9BLUucMeknqnEEvSZ0z6CWpcwa9JHXOoJekzhn0ktQ5g16SOmfQS1LnDHpJ6pxBL0mdM+glqXMGvSR1zqCXpM4Z9JLUOYNekjpn0EtS5xb8n7HSsTS76d532js3XzHFSqR+eEUvSZ0z6CWpcwa9JHXOoJekzhn0ktQ5g16SOmfQS1LnvI9eR234nndJx6+JBH2SS4GbgROAb1bV5kkcR33zzVPSeIx96SbJCcA/AJcBZwPXJDl73MeRJI1mElf05wM7qup5gCR3AOuAZyZwLC0TXt1LR28SQb8K2DW0vRv4vQkcR8uUoS8tztT+GJtkI7Cxbb6R5L+nVcuEnQ78bNpFHAcmMg+5cdyvOHGeDwPOw7uWMhe/NcqgSQT9HmDN0Pbq1vceVbUF2DKB4x9XksxX1dy065g252HAeRhwHt51LOZiEvfR/xRYm+SsJCcBVwPbJnAcSdIIxn5FX1VvJfkC8K8Mbq+8raqeHvdxJEmjmcgafVXdB9w3idd+H+p+eWpEzsOA8zDgPLxr4nORqpr0MSRJU+Rn3UhS5wz6CUqyM8mTSR5PMj/teo6VJLcl2ZfkqaG+05Lcn+S59njqNGs8Fg4zD19NsqedE48nuXyaNR4LSdYkeSjJM0meTnJD619W58QR5mHi54RLNxOUZCcwV1XL6n7hJH8AvAHcXlUfb31/A7xSVZuTbAJOraovTbPOSTvMPHwVeKOq/naatR1LSc4AzqiqR5N8GNgOXAl8nmV0ThxhHq5iwueEV/Qau6r6CfDKQd3rgK2tvZXBCd61w8zDslNVe6vq0db+BfAsg3fQL6tz4gjzMHEG/WQV8KMk29s7gZezlVW1t7VfBFZOs5gp+0KSJ9rSTtfLFQdLMgucCzzCMj4nDpoHmPA5YdBP1oVVdR6DT/K8vv0qv+zVYL1wua4Z3gL8DnAOsBf4u+mWc+wk+RDwfeCLVfXz4X3L6Zw4xDxM/Jww6Ceoqva0x33A3Qw+2XO5eqmtUR5Yq9w35XqmoqpeqqpfVdXbwD+yTM6JJCcyCLdvV9UPWveyOycONQ/H4pww6CckycntDy4kORn4FPDUkZ/VtW3A+tZeD9wzxVqm5kCwNZ9hGZwTSQLcCjxbVV8f2rWszonDzcOxOCe862ZCkvw2g6t4GLwD+TtV9ddTLOmYSfJd4CIGn8r3EvAV4J+Bu4AzgReAq6qq6z9UHmYeLmLwK3oBO4E/G1qn7lKSC4F/A54E3m7dX2awPr1szokjzMM1TPicMOglqXMu3UhS5wx6SeqcQS9JnTPoJalzBr0kdc6gl6TOGfSS1DmDXpI693+5Q7Yfb6ZdjwAAAABJRU5ErkJggg==\n",
      "text/plain": [
       "<Figure size 432x288 with 1 Axes>"
      ]
     },
     "metadata": {
      "needs_background": "light"
     },
     "output_type": "display_data"
    }
   ],
   "source": [
    "sampled = tf.squeeze(G([noise_vector, l1]))\n",
    "\n",
    "_ = plt.hist(sampled, 100, range=(2, 25))"
   ]
  }
 ],
 "metadata": {
  "colab": {
   "name": "c_gan_trento.ipynb",
   "provenance": [],
   "version": "0.3.2"
  },
  "kernelspec": {
   "display_name": "Python 3",
   "language": "python",
   "name": "python3"
  },
  "language_info": {
   "codemirror_mode": {
    "name": "ipython",
    "version": 3
   },
   "file_extension": ".py",
   "mimetype": "text/x-python",
   "name": "python",
   "nbconvert_exporter": "python",
   "pygments_lexer": "ipython3",
   "version": "3.6.8"
  },
  "toc": {
   "base_numbering": 1,
   "nav_menu": {},
   "number_sections": true,
   "sideBar": true,
   "skip_h1_title": true,
   "title_cell": "Table of Contents",
   "title_sidebar": "Contents",
   "toc_cell": false,
   "toc_position": {
    "height": "calc(100% - 180px)",
    "left": "10px",
    "top": "150px",
    "width": "246px"
   },
   "toc_section_display": true,
   "toc_window_display": true
  }
 },
 "nbformat": 4,
 "nbformat_minor": 1
}
