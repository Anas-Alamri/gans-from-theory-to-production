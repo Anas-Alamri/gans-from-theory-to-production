{
  "cells": [
    {
      "cell_type": "markdown",
      "metadata": {
        "pycharm": {}
      },
      "source": "\u003ca href\u003d\u0027https://colab.research.google.com/github/zurutech/gans-from-theory-to-production/blob/master/3.%20TFGAN/3.0.%20TFGAN%20to%20the%20Rescue.ipynb\u0027\u003e\n        \u003cimg align\u003d\"left\" src\u003d\u0027https://cdn-images-1.medium.com/max/800/1*ZpNn76K98snC9vDiIJ6Ldw.jpeg\u0027\u003e\u003c/img\u003e\n\u003c/a\u003e\n"
    },
    {
      "cell_type": "markdown",
      "metadata": {
        "toc": true,
        "pycharm": {}
      },
      "source": "\u003ch1\u003eTable of Contents\u003cspan class\u003d\"tocSkip\"\u003e\u003c/span\u003e\u003c/h1\u003e\n\u003cbr\u003e\n\u003cdiv class\u003d\"toc\"\u003e\u003cul class\u003d\"toc-item\"\u003e\n    \u003cli\u003e\u003cspan\u003e\u003ca href\u003d\"#TFGAN?\" data-toc-modified-id\u003d\"TFGAN?-1\"\u003e\u003cspan class\u003d\"toc-item-num\"\u003e1\u0026nbsp;\u0026nbsp;\u003c/span\u003eTFGAN?\u003c/a\u003e\u003c/span\u003e\n        \u003cul class\u003d\"toc-item\"\u003e\n            \u003cli\u003e\u003cspan\u003e\u003ca href\u003d\"#Advantages\" data-toc-modified-id\u003d\"Advantages-1.1\"\u003e\u003cspan class\u003d\"toc-item-num\"\u003e1.1\u0026nbsp;\u0026nbsp;\u003c/span\u003eAdvantages\u003c/a\u003e\u003c/span\u003e\u003c/li\u003e\n            \u003cli\u003e\u003cspan\u003e\u003ca href\u003d\"#Caveats\" data-toc-modified-id\u003d\"Caveats-1.2\"\u003e\u003cspan class\u003d\"toc-item-num\"\u003e1.2\u0026nbsp;\u0026nbsp;\u003c/span\u003eCaveats\u003c/a\u003e\u003c/span\u003e\u003c/li\u003e\n         \u003c/ul\u003e\n     \u003c/li\u003e\n     \u003cli\u003e\u003cspan\u003e\u003ca href\u003d\"#Inside-TFGAN\" data-toc-modified-id\u003d\"Inside-TFGAN-2\"\u003e\u003cspan class\u003d\"toc-item-num\"\u003e2\u0026nbsp;\u0026nbsp;\u003c/span\u003eInside TFGAN\u003c/a\u003e\u003c/span\u003e\u003c/li\u003e\n     \u003cli\u003e\u003cspan\u003e\u003ca href\u003d\"#GANModel-vs.-GANEstimator\" data-toc-modified-id\u003d\"GANModel-vs.-GANEstimator-3\"\u003e\u003cspan class\u003d\"toc-item-num\"\u003e3\u0026nbsp;\u0026nbsp;\u003c/span\u003eGANModel vs. GANEstimator\u003c/a\u003e\u003c/span\u003e\u003c/li\u003e\n     \u003cli\u003e\u003cspan\u003e\u003ca href\u003d\"#Links\" data-toc-modified-id\u003d\"Links-4\"\u003e\u003cspan class\u003d\"toc-item-num\"\u003e4\u0026nbsp;\u0026nbsp;\u003c/span\u003eLinks\u003c/a\u003e\u003c/span\u003e\n     \u003c/li\u003e\u003c/div\u003e"
    },
    {
      "cell_type": "markdown",
      "metadata": {
        "pycharm": {}
      },
      "source": "\n## TFGAN?\n\nTFGAN was developed by Google Brain (now Google AI) and released to the public on December 12, 2017 (see [blog post [1\\]](#1)); authored by Joel Shor and Sergio Guadarrama, TFGAN is a lightweight library built on top of TensorFlow (currently available under `contrib`) offering a one-stop solution for (almost) all of your GANs\u0027 training and evaluation needs.\n\nThe code, documentation, and examples can be found both on TensorFlow website and on GitHub.\n\n### Advantages\n\n- \"**Double networks training**,\" TFGAN offers an API that makes GANs easy to train, wrapping a series of lower-level operations.\n- Popular, **ready to use losses** and penalties. \n- **Pre-built summaries** for monitoring and evaluating.\n- **Pre-built** commonly used **evaluators** like `Inception Score` or `Fréchet Distance.`\n- \"**Bag o\u0027 tricks**\" (AKA hacks and \"best practices\") that aid with training stability and quality. \n- **Examples** of complete Architecture based on the most cutting-edge research.\n- Supports defining **custom GANs** using `GANModel` objects.\n\nMoreover, it offers `GANEstimator`, an API built upon TensorFlow own **Estimator API** that makes GANs\u0027 training a breeze.\n\n### Caveats\n\nIt is not gold all that shines. While TFGAN is in our opinion the best way to build custom GANs, we should mention some of its drawbacks:\n\n- Contrib\u0027s woes: being part of `contrib` means that the API could change in a backward incompatible way and leading some bugs. Furthermore, it is not currently available in Tensorflow 2.0.\n- Building custom losses for TFGAN can be a pain due to the verbosity and \"low-levelness\" of the code that needs writing.\n- Due to the higher level API, debugging or customizing the engine under the hood can sometimes be an annoying experience. That happens for example when using GANEstimator.\n\n## Inside TFGAN\n\nBy taking a look at the [project structure [2\\]](#2), we can discover its functionalities.\nSeveral independent parts compose the TFGAN structure. These include the following main pieces:\n- Core: provides the core infrastructure needed to train a GAN. Training occurs in four phases. Each phase can be completed by custom-code or by using a TFGAN library call. The \"Core\" functions can be found in the `namedtuples.py` and `train.py`.\n- `estimator`: it is a versatile and easy to use Estimator-like API. It manages all the session related complexity for the developer. `GANEstimator` inherits from this class. The Estimator API allows you to train a GAN without the hassle of manage the adversarial training.\n- `features`: TFGAN implements many useful GAN operations and normalization techniques. Among these, there are instance normalization and conditioning.\n- `losses`: Include a set of already-implemented and well-tested losses and penalties — for example, the Wasserstein loss, gradient penalty, and mutual information penalty.\n- `eval`: Use `Inception Score` or `Fréchet Distance` with a pre-trained Inception network to evaluate your unconditional generative model. You can also use your pre-trained classifier. Also, you can use other methods for evaluating conditional generative models.\n- Examples and tutorial: [TensorFlow Research Models [3\\]](#3) provides many examples and tutorial. Moreover, it contains a plethora of information on how to use TFGAN to make GAN training easier. It also presents other more complicated examples. These include unconditional and conditional GANs, InfoGANs, adversarial losses on existing networks, and image-to-image translation.\n\n## GANModel vs. GANEstimator\n\nWhile we focus our attention on `GANEstimator`, the real raw power of TFGAN is its flexibility. This trait, offered by its lower level structures, enables the training of almost all kinds of GAN.\n\n\u003e Training in TFGAN typically consists of the following steps:\n\u003e 1. Specify the input to your networks.\n\u003e 2. Set up your generator and discriminator using a `GANModel`.\n\u003e 3. Specify your loss using a `GANLoss`.\n\u003e 4. Create your train ops using a `GANTrainOps`.\n\u003e 5. Run your train ops.\n\nFor this workshop we decided to go with `GANEstimator` over `GANModel` for a couple of reason:\n\n- `Estimator API` is easier to learn, to use and is more suited for production deployment.\n- **DCGAN** (the GAN that powers up our demos) can be modeled and trained using `GANEstimator`.\n- Most of the TFGAN tutorials/examples focus on GANModel. For this reason, we wanted to increase the learning material covering `GANEstimator`.\n\n## Links\n\n\u003ca id\u003d\"1\"\u003e[1]\u003c/a\u003e: https://ai.googleblog.com/2017/12/tfgan-lightweight-library-for.html\n\n\u003ca id\u003d\"2\"\u003e[2]\u003c/a\u003e: \nhttps://github.com/tensorflow/tensorflow/tree/master/tensorflow/contrib/gan/python\n\n\u003ca id\u003d\"3\"\u003e[3]\u003c/a\u003e: https://github.com/tensorflow/models/tree/master/research/gan/"
    }
  ],
  "metadata": {
    "kernelspec": {
      "display_name": "Python 3",
      "language": "python",
      "name": "python3"
    },
    "language_info": {
      "codemirror_mode": {
        "name": "ipython",
        "version": 3
      },
      "file_extension": ".py",
      "mimetype": "text/x-python",
      "name": "python",
      "nbconvert_exporter": "python",
      "pygments_lexer": "ipython3",
      "version": "3.6.8"
    },
    "toc": {
      "base_numbering": 1,
      "nav_menu": {},
      "number_sections": true,
      "sideBar": true,
      "skip_h1_title": true,
      "title_cell": "Table of Contents",
      "title_sidebar": "Contents",
      "toc_cell": true,
      "toc_position": {
        "height": "calc(100% - 180px)",
        "left": "10px",
        "top": "150px",
        "width": "210.833px"
      },
      "toc_section_display": true,
      "toc_window_display": true
    },
    "stem_cell": {
      "cell_type": "raw",
      "source": "goo#%% md\n\u003cimg src\u003d\"../images/logo.jpg\" style\u003d\"width:85px;height:85px;float:left\" /\u003e\u003ch1 style\u003d\"position:relative;float:left;display:inline\"\u003eTFGAN to the Rescue\u003c/h1\u003e",
      "metadata": {
        "pycharm": {
          "metadata": false
        }
      }
    }
  },
  "nbformat": 4,
  "nbformat_minor": 2
}